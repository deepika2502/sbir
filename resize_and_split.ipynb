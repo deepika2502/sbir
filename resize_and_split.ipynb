{
 "cells": [
  {
   "cell_type": "code",
   "execution_count": null,
   "id": "adjustable-solomon",
   "metadata": {},
   "outputs": [],
   "source": [
    "import os\n",
    "from PIL import Image\n",
    "\n",
    "path = 'E:\\\\deepika_fyp\\\\final_year_pro\\\\data'\n",
    "path2 = 'E:\\\\deepika_fyp\\\\final_year_pro\\\\data2'  \n",
    "string1=\"airplane,apple,banana,bicycle,car,cat,chair,duck,teddy bear,pizza,fire hydrant,train,elephant,knife,cup\"\n",
    "class_names=sorted(list(string1.split(\",\")))\n",
    "\n",
    "        \n",
    "\n",
    "for name in os.listdir(os.path.join(path)):\n",
    "     for filename in os.listdir(os.path.join(path,name)):\n",
    "                    im = Image.open(path + '\\\\' + name + '\\\\' + filename )\n",
    "                    new_width  = 100\n",
    "                    new_height = 100\n",
    "                    img = im.resize((new_width, new_height), Image.ANTIALIAS)\n",
    "                    img.save(path2 + '\\\\'  + name + '\\\\' + filename ) "
   ]
  },
  {
   "cell_type": "code",
   "execution_count": null,
   "id": "pediatric-segment",
   "metadata": {},
   "outputs": [],
   "source": [
    "import splitfolders\n",
    "\n",
    "#Split to training, testing and validation folders\n",
    "splitfolders.ratio('E:\\\\deepika_fyp\\\\final_year_pro\\\\data\\\\sketch_final', output='E:\\\\deepika_fyp\\\\final_year_pro\\\\data\\\\sketch_final', seed=1337, ratio=(0.85, 0.1,0.05))\n"
   ]
  }
 ],
 "metadata": {
  "kernelspec": {
   "display_name": "Python 3",
   "language": "python",
   "name": "python3"
  },
  "language_info": {
   "codemirror_mode": {
    "name": "ipython",
    "version": 3
   },
   "file_extension": ".py",
   "mimetype": "text/x-python",
   "name": "python",
   "nbconvert_exporter": "python",
   "pygments_lexer": "ipython3",
   "version": "3.8.6"
  }
 },
 "nbformat": 4,
 "nbformat_minor": 5
}
