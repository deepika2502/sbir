{
 "cells": [
  {
   "cell_type": "markdown",
   "metadata": {
    "id": "3DR-eO17geWu"
   },
   "source": [
    "# Convolutional Neural Network"
   ]
  },
  {
   "cell_type": "code",
   "execution_count": null,
   "metadata": {},
   "outputs": [],
   "source": [
    "#!nvidia-smi"
   ]
  },
  {
   "cell_type": "markdown",
   "metadata": {
    "id": "EMefrVPCg-60"
   },
   "source": [
    "### Importing the libraries"
   ]
  },
  {
   "cell_type": "code",
   "execution_count": null,
   "metadata": {
    "id": "sCV30xyVhFbE"
   },
   "outputs": [],
   "source": [
    "import tensorflow as tf\n",
    "import cv2\n",
    "import glob\n",
    "from keras.preprocessing.image import ImageDataGenerator\n",
    "from tensorflow.keras.applications import VGG16, ResNet50, InceptionResNetV2, MobileNet\n",
    "from tensorflow.keras.models import Sequential\n",
    "from tensorflow.keras import layers\n",
    "from tensorflow.keras.optimizers import Adam\n",
    "import numpy as np\n",
    "import os\n"
   ]
  },
  {
   "cell_type": "code",
   "execution_count": null,
   "metadata": {
    "id": "FIleuCAjoFD8"
   },
   "outputs": [],
   "source": [
    "tf.__version__"
   ]
  },
  {
   "cell_type": "markdown",
   "metadata": {
    "id": "oxQxCBWyoGPE"
   },
   "source": [
    "## Part 1 - Data Preprocessing"
   ]
  },
  {
   "cell_type": "markdown",
   "metadata": {
    "id": "MvE-heJNo3GG"
   },
   "source": [
    "\n",
    "### Preprocessing the Training set"
   ]
  },
  {
   "cell_type": "code",
   "execution_count": null,
   "metadata": {
    "id": "0koUcJMJpEBD"
   },
   "outputs": [],
   "source": [
    "#Read images and convert them to arrays\n",
    "train_images = []\n",
    "train_lables = []\n",
    "for directory_path in glob.glob(\"../input/sbir151/data/train/*\"):\n",
    "    lables = directory_path.split(\"/\")[-1]\n",
    "    for img_path in glob.glob(os.path.join(directory_path, \"*.png\")):\n",
    "        img = cv2.imread(img_path, cv2.IMREAD_COLOR)\n",
    "        train_images.append(img)\n",
    "        train_lables.append(lables)\n",
    "train_images = np.array(train_images)\n",
    "train_lables = np.array(train_lables)"
   ]
  },
  {
   "cell_type": "markdown",
   "metadata": {
    "id": "mrCMmGw9pHys"
   },
   "source": [
    "\n",
    "\n",
    "### Preprocessing the Test set"
   ]
  },
  {
   "cell_type": "code",
   "execution_count": null,
   "metadata": {
    "id": "SH4WzfOhpKc3"
   },
   "outputs": [],
   "source": [
    "#Read images and convert them to arrays\n",
    "test_images = []\n",
    "test_lables = []\n",
    "for directory_path in glob.glob(\"../input/sbir151/data/val/*\"):\n",
    "    lables = directory_path.split(\"/\")[-1]\n",
    "    for img_path in glob.glob(os.path.join(directory_path, \"*.png\")):\n",
    "        img = cv2.imread(img_path, cv2.IMREAD_COLOR)\n",
    "        test_images.append(img)\n",
    "        test_lables.append(lables)\n",
    "test_images = np.array(test_images)\n",
    "test_lables = np.array(test_lables)\n"
   ]
  },
  {
   "cell_type": "code",
   "execution_count": null,
   "metadata": {},
   "outputs": [],
   "source": [
    "#Creating an encoding for the class labels\n",
    "from sklearn import preprocessing\n",
    "le = preprocessing.LabelEncoder()\n",
    "le.fit(test_lables)\n",
    "test_lables_en = le.transform(test_lables)\n",
    "le.fit(train_lables)\n",
    "train_lables_en = le.transform(train_lables)"
   ]
  },
  {
   "cell_type": "code",
   "execution_count": null,
   "metadata": {},
   "outputs": [],
   "source": [
    "#Assign training, testing images and the labels\n",
    "x_train,y_train,x_test,y_test = train_images,train_lables_en,test_images,test_lables_en"
   ]
  },
  {
   "cell_type": "code",
   "execution_count": null,
   "metadata": {},
   "outputs": [],
   "source": [
    "#Model to deduce the features\n",
    "model = VGG16 (weights='imagenet',include_top=False,input_shape=(100,100,3))\n",
    "\n",
    "for layer in model.layers:\n",
    "    layer.trainable = True"
   ]
  },
  {
   "cell_type": "code",
   "execution_count": null,
   "metadata": {},
   "outputs": [],
   "source": [
    "#Obtain the features which will be reduces numpy arrays\n",
    "import sys\n",
    "import numpy\n",
    "feature_extractor = model.predict(x_train)\n",
    "print(feature_extractor)\n",
    "shape =feature_extractor.shape\n",
    "print(shape)"
   ]
  },
  {
   "cell_type": "code",
   "execution_count": null,
   "metadata": {},
   "outputs": [],
   "source": [
    "#reshaping to 2d array\n",
    "feature = feature_extractor.reshape(feature_extractor.shape[0],-1)\n",
    "print(feature)"
   ]
  },
  {
   "cell_type": "code",
   "execution_count": null,
   "metadata": {},
   "outputs": [],
   "source": [
    "#Using SVM to train on the features extracted using the pretrained architecture\n",
    "from sklearn import svm\n",
    "svmmodel = svm.SVC(kernel='linear',verbose=True)\n",
    "svmmodel.fit(feature,y_train)\n",
    "svmmodel.score(feature,y_train)"
   ]
  },
  {
   "cell_type": "code",
   "execution_count": null,
   "metadata": {},
   "outputs": [],
   "source": [
    "#Predicting with the classifier model\n",
    "predicted_train = svmmodel.predict(feature)\n",
    "predicted_train = le.inverse_transform(predicted_train)"
   ]
  },
  {
   "cell_type": "code",
   "execution_count": null,
   "metadata": {},
   "outputs": [],
   "source": [
    "import pickle\n",
    "s = pickle.dump(svmmodel,open('../working/svm_vgg_16.h5', 'wb'))\n",
    "print(predicted_train)\n",
    "print(le.inverse_transform(y_train))"
   ]
  },
  {
   "cell_type": "code",
   "execution_count": null,
   "metadata": {},
   "outputs": [],
   "source": [
    "\n",
    "from sklearn.metrics import accuracy_score,confusion_matrix,classification_report, ConfusionMatrixDisplay\n",
    "print('~~~~~~~ TRAINING ~~~~~~~')\n",
    "print(\"Accuracy = \", accuracy_score(train_lables, predicted_train))\n",
    "\n",
    "report = classification_report(le.inverse_transform(y_train), predicted_train)\n",
    "print(report)\n",
    "\n",
    "print('Confusion Matrix :')\n",
    "string1=\"airplane,apple,banana,bicycle,car,cat,chair,duck,teddy bear,pizza,fire hydrant,train,elephant,knife,cup\"\n",
    "class_names=sorted(list(string1.split(\",\")))\n",
    "confusion_matrix=confusion_matrix(train_lables,predicted_train,labels=class_names)\n",
    "\n",
    "import seaborn as sns\n",
    "import matplotlib.pyplot as plt\n",
    "plt.subplots(figsize=(15,15))\n",
    "\n",
    "seaborn1=sns.heatmap(confusion_matrix, xticklabels=class_names, yticklabels=class_names, annot=True, annot_kws={'size': 10},cmap='Blues')\n",
    "\n",
    "# Save confusion matrix and report\n",
    "results_path = '../working/train_confusion_vgg.png'\n",
    "plt.savefig(results_path)\n",
    "report_path = '../working/training_report_vgg.txt'\n",
    "text_file = open(report_path, \"w\")\n",
    "n = text_file.write(report)\n",
    "text_file.close()"
   ]
  },
  {
   "cell_type": "code",
   "execution_count": null,
   "metadata": {},
   "outputs": [],
   "source": [
    "test_features_extractor =model.predict(x_test)\n",
    "test_feature = test_features_extractor.reshape(test_features_extractor.shape[0],-1)"
   ]
  },
  {
   "cell_type": "code",
   "execution_count": null,
   "metadata": {},
   "outputs": [],
   "source": [
    "predicted_output = svmmodel.predict(test_feature)\n",
    "predicted_output = le.inverse_transform(predicted_output)"
   ]
  },
  {
   "cell_type": "code",
   "execution_count": null,
   "metadata": {},
   "outputs": [],
   "source": [
    "from sklearn.metrics import accuracy_score,confusion_matrix\n",
    "print('~~~~~~~ TESTING ~~~~~~~')\n",
    "print(\"Accuracy = \", accuracy_score(test_lables, predicted_output))\n",
    "from sklearn.metrics import classification_report\n",
    "report = classification_report(le.inverse_transform(y_test), predicted_output)\n",
    "print(report)\n",
    "\n",
    "confusion_matrix=confusion_matrix(le.inverse_transform(y_test), predicted_output)\n",
    "\n",
    "import seaborn as sns\n",
    "import matplotlib.pyplot as plt\n",
    "plt.subplots(figsize=(15,15))\n",
    "string1=\"airplane,apple,banana,bicycle,car,cat,chair,duck,teddy bear,pizza,fire hydrant,train,elephant,knife,cup\"\n",
    "class_names=sorted(list(string1.split(\",\")))\n",
    "\n",
    "seaborn1=sns.heatmap(confusion_matrix, xticklabels=class_names, yticklabels=class_names, annot=True, annot_kws={'size': 10},cmap='Blues')\n",
    "\n",
    "# Save confusion matrix and report\n",
    "results_path = '../working/test_confusion_vgg.png'\n",
    "plt.savefig(results_path)\n",
    "report_path = '../working/testing_report_vgg.txt'\n",
    "text_file = open(report_path, \"w\")\n",
    "n = text_file.write(report)\n",
    "text_file.close()"
   ]
  },
  {
   "cell_type": "code",
   "execution_count": null,
   "metadata": {},
   "outputs": [],
   "source": [
    "val_images = []\n",
    "val_lables = []\n",
    "for directory_path in glob.glob(\"../input/sbir151/data/test/*\"):\n",
    "    lables = directory_path.split(\"/\")[-1]\n",
    "    for img_path in glob.glob(os.path.join(directory_path, \"*.png\")):\n",
    "        img = cv2.imread(img_path, cv2.IMREAD_COLOR)\n",
    "        val_images.append(img)\n",
    "        val_lables.append(lables)\n",
    "val_images = np.array(val_images)\n",
    "val_lables = np.array(val_lables)\n"
   ]
  },
  {
   "cell_type": "code",
   "execution_count": null,
   "metadata": {},
   "outputs": [],
   "source": [
    "val_features_extractor = model.predict(val_images)\n",
    "val_feature = val_features_extractor.reshape(val_features_extractor.shape[0],-1)"
   ]
  },
  {
   "cell_type": "code",
   "execution_count": null,
   "metadata": {},
   "outputs": [],
   "source": [
    "\n",
    "predicted_output_val = svmmodel.predict(val_feature)\n",
    "predicted_output_val = le.inverse_transform(predicted_output_val)"
   ]
  },
  {
   "cell_type": "code",
   "execution_count": null,
   "metadata": {},
   "outputs": [],
   "source": [
    "from sklearn.metrics import accuracy_score,confusion_matrix\n",
    "print('~~~~~~ Validation ~~~~~~~')\n",
    "print(\"Accuracy = \", accuracy_score(val_lables, predicted_output_val))\n",
    "from sklearn.metrics import classification_report\n",
    "report = classification_report(val_lables, predicted_output_val)\n",
    "print(report)\n",
    "print('Confusion Matrix :')\n",
    "confusion_matrix=confusion_matrix(val_lables,predicted_output_val)\n",
    "print(confusion_matrix)\n",
    "\n",
    "import seaborn as sns\n",
    "import matplotlib.pyplot as plt\n",
    "plt.subplots(figsize=(15,15))\n",
    "string1=\"airplane,apple,banana,bicycle,car,cat,chair,duck,teddy bear,pizza,fire hydrant,train,elephant,knife,cup\"\n",
    "class_names=sorted(list(string1.split(\",\")))\n",
    "\n",
    "seaborn1=sns.heatmap(confusion_matrix, xticklabels=class_names, yticklabels=class_names, annot=True, annot_kws={'size': 10},cmap='Blues')\n",
    "\n",
    "# Save confusion matrix and report\n",
    "results_path = '../working/valid_confusion_vgg.png'\n",
    "plt.savefig(results_path)\n",
    "report_path = '../working/validation_vgg.txt'\n",
    "text_file = open(report_path, \"w\")\n",
    "n = text_file.write(report)\n",
    "text_file.close()"
   ]
  },
  {
   "cell_type": "code",
   "execution_count": null,
   "metadata": {},
   "outputs": [],
   "source": [
    "from matplotlib import pyplot as plt"
   ]
  },
  {
   "cell_type": "code",
   "execution_count": null,
   "metadata": {},
   "outputs": [],
   "source": [
    "n=np.random.randint(0, x_test.shape[0])\n",
    "img = x_test[n]\n",
    "plt.imshow(img)\n",
    "input_img = np.expand_dims(img, axis=0)\n",
    "input_img_feature = model.predict(input_img)\n",
    "input_img_features = input_img_feature.reshape(input_img_feature.shape[0],-1)\n",
    "prediction_SVM = svmmodel.predict(input_img_features)[0]\n",
    "prediction_SVM = le.inverse_transform([prediction_SVM])\n",
    "print('Predicted Label:')\n",
    "print(prediction_SVM)\n",
    "print('Actual Label:')\n",
    "print(test_lables[n])"
   ]
  },
  {
   "cell_type": "code",
   "execution_count": null,
   "metadata": {},
   "outputs": [],
   "source": [
    "import tensorflow as tf\n",
    "import cv2\n",
    "import glob\n",
    "from keras.preprocessing.image import ImageDataGenerator\n",
    "from tensorflow.keras.applications import VGG16\n",
    "from tensorflow.keras.models import Sequential\n",
    "from tensorflow.keras import layers\n",
    "from tensorflow.keras.optimizers import Adam\n",
    "import numpy as np\n",
    "import os,pickle, matplotlib.pyplot as plt\n",
    "model = VGG16(weights='imagenet',include_top=False,input_shape=(100,100,3))\n",
    "\n",
    "with open('../input/model11/svm-vgg-16.h5', 'rb') as file:\n",
    "    cnn = pickle.load(file)\n",
    "string1=\"airplane,apple,banana,bicycle,car,cat,chair,duck,teddy bear,pizza,fire hydrant,train,elephant,knife,cup\"\n",
    "class_names=sorted(list(string1.split(\",\")))\n",
    "img = cv2.imread('../input/sbir151/data/val/fire_hydrant/1206.png')\n",
    "plt.imshow(img)\n",
    "input_img = np.expand_dims(img, axis=0)\n",
    "input_img_feature = model.predict(input_img)\n",
    "input_img_features = input_img_feature.reshape(input_img_feature.shape[0],-1)\n",
    "prediction_SVM = cnn.predict(input_img_features)[0]\n",
    "prediction=class_names[prediction_SVM]\n",
    "print('Predicted Label:')\n",
    "print(prediction)\n",
    "print('Actual Label:')\n",
    "print('Fire_Hydrant')"
   ]
  },
  {
   "cell_type": "code",
   "execution_count": null,
   "metadata": {},
   "outputs": [],
   "source": [
    "n=np.random.randint(0, x_test.shape[0])\n",
    "img = x_test[n]\n",
    "plt.imshow(img)\n",
    "input_img = np.expand_dims(img, axis=0)\n",
    "input_img_feature = model.predict(input_img)\n",
    "input_img_features = input_img_feature.reshape(input_img_feature.shape[0],-1)\n",
    "prediction_SVM = svmmodel.predict(input_img_features)[0]\n",
    "prediction_SVM = le.inverse_transform([prediction_SVM])\n",
    "print('Predicted Label:')\n",
    "print(prediction_SVM)\n",
    "print('Actual Label:')\n",
    "print(test_lables[n])"
   ]
  },
  {
   "cell_type": "code",
   "execution_count": null,
   "metadata": {},
   "outputs": [],
   "source": []
  },
  {
   "cell_type": "code",
   "execution_count": null,
   "metadata": {},
   "outputs": [],
   "source": []
  }
 ],
 "metadata": {
  "kernelspec": {
   "display_name": "Python 3",
   "language": "python",
   "name": "python3"
  },
  "language_info": {
   "codemirror_mode": {
    "name": "ipython",
    "version": 3
   },
   "file_extension": ".py",
   "mimetype": "text/x-python",
   "name": "python",
   "nbconvert_exporter": "python",
   "pygments_lexer": "ipython3",
   "version": "3.8.6"
  }
 },
 "nbformat": 4,
 "nbformat_minor": 4
}
